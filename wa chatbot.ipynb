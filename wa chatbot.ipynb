{
 "cells": [
  {
   "cell_type": "markdown",
   "id": "317b3ca6-93bf-497c-b05c-d4fec747a4b9",
   "metadata": {},
   "source": [
    "SETUP"
   ]
  },
  {
   "cell_type": "code",
   "execution_count": 123,
   "id": "3c91d420-587c-42ce-b4b0-5f896fe0b783",
   "metadata": {},
   "outputs": [],
   "source": [
    "from selenium import webdriver\n",
    "from selenium.webdriver.edge.service import Service\n",
    "from selenium.webdriver.edge.options import Options\n",
    "from selenium.webdriver.common.by import By\n",
    "from selenium.webdriver.common.keys import Keys\n",
    "from selenium.webdriver.common.action_chains import ActionChains\n",
    "from webdriver_manager.microsoft import EdgeChromiumDriverManager\n",
    "from selenium.webdriver.support.ui import WebDriverWait\n",
    "from selenium.webdriver.support import expected_conditions as EC\n",
    "\n",
    "import time\n",
    "import csv"
   ]
  },
  {
   "cell_type": "markdown",
   "id": "9ed2758a-a576-407c-9818-18f4fcafe742",
   "metadata": {},
   "source": [
    "LOGIN"
   ]
  },
  {
   "cell_type": "code",
   "execution_count": null,
   "id": "6068be8e-43cc-4c8e-aec6-e6963c1902c8",
   "metadata": {},
   "outputs": [],
   "source": [
    "edge_options = Options()\n",
    "service = Service(EdgeChromiumDriverManager().install())\n",
    "\n",
    "driver = webdriver.Edge(service=service, options=edge_options)\n",
    "driver.get(\"https://web.whatsapp.com\")"
   ]
  },
  {
   "cell_type": "markdown",
   "id": "237c48de-cc44-4db0-b299-0b8ed390096b",
   "metadata": {},
   "source": [
    "CHATBOT"
   ]
  },
  {
   "cell_type": "code",
   "execution_count": 151,
   "id": "f160db78-e44e-452d-a608-ff5ce89ec00d",
   "metadata": {},
   "outputs": [],
   "source": [
    "def chatbot(contact, sender):\n",
    "    \n",
    "    search_box = driver.find_element(By.XPATH, '//button[@class=\"_ai0b _ai08\"]')\n",
    "    search_box.click()\n",
    "    span_element = driver.find_element(By.XPATH, '//p[@class=\"selectable-text copyable-text x15bjb6t x1n2onr6\"]')\n",
    "    span_element.send_keys(contact)\n",
    "    \n",
    "    locator_contact = f'//span[@title=\"{contact}\"]'\n",
    "    contact_button = WebDriverWait(driver, 4).until(\n",
    "        EC.element_to_be_clickable((By.XPATH, locator_contact))\n",
    "    )\n",
    "    contact_button.click()\n",
    "    \n",
    "    WebDriverWait(driver, 3).until(\n",
    "        EC.text_to_be_present_in_element(\n",
    "            (By.XPATH, '//div[@class=\"_amie\"]/div/div/div/span'), contact\n",
    "        )\n",
    "    )\n",
    "    message_box = driver.find_element(By.XPATH, '//div[@aria-placeholder=\"Type a message\"]/p')\n",
    "    message_box.click()\n",
    "    sender.perform()\n",
    "    # message_box.send_keys(message)\n",
    "    # message_box.send_keys(Keys.ENTER)"
   ]
  },
  {
   "cell_type": "markdown",
   "id": "6d675037-231b-452e-a863-8b23c1b46dfe",
   "metadata": {},
   "source": [
    "KONTAK"
   ]
  },
  {
   "cell_type": "code",
   "execution_count": 176,
   "id": "177d0085-8a9d-489f-9f7e-de8d1904c7f9",
   "metadata": {},
   "outputs": [
    {
     "name": "stdout",
     "output_type": "stream",
     "text": [
      "[['GO Iola', 'Iola', '0'], ['GO Raisya', 'Raisya', '0'], ['GO Puan', 'Puan', '0'], ['GO Keynina', 'Keynina', '0'], ['GO Zain', 'Zain', '0'], ['GO Nabila', 'Nabila', '0'], ['GO Kevin', 'Kevin', '0'], ['GO Mouza', 'Mouza', '0'], ['GO Farand', 'Farand', '0'], ['GO Fadia', 'Fadia', '0'], ['GO Gishya', 'Gishya', '0'], ['GO Hanif', 'Hanif', '0'], ['GO Nadiya', 'Nadiya', '0'], ['GO Keira', 'Keira', '0'], ['GO Ganesha', 'Ganesha', '0'], ['GO Adelia', 'Adelia', '0'], ['GO Galih', 'Galih', '0'], ['GO Gani', 'Gani', '0'], ['GO Nayla', 'Nayla', '0']]\n"
     ]
    }
   ],
   "source": [
    "data = []\n",
    "\n",
    "with open('CHATBOT WA/data.csv', mode='r', newline='') as file:\n",
    "    csv_reader = csv.reader(file)\n",
    "    next(csv_reader, None)\n",
    "    for row in csv_reader:\n",
    "        data.append(row)\n",
    "\n",
    "print(data)"
   ]
  },
  {
   "cell_type": "markdown",
   "id": "c2901d87-dcf7-448e-8d20-03a0bfcbe360",
   "metadata": {},
   "source": [
    "KIRIM CHAT"
   ]
  },
  {
   "cell_type": "code",
   "execution_count": 171,
   "id": "d2ea7cc8-d85a-4880-98ce-6af372c36e12",
   "metadata": {},
   "outputs": [],
   "source": [
    "for row in kontak:\n",
    "    kon, nama, tung = row\n",
    "    actions = ActionChains(driver)\n",
    "\n",
    "    actions.send_keys(\"Another day, another reminder\")\n",
    "    actions.key_down(Keys.SHIFT).send_keys(Keys.ENTER).key_up(Keys.SHIFT)\n",
    "    actions.key_down(Keys.SHIFT).send_keys(Keys.ENTER).key_up(Keys.SHIFT)\n",
    "    actions.send_keys(f\"{nama}, soalnya jangan lupa dikerjain teruss\")\n",
    "    actions.key_down(Keys.SHIFT).send_keys(Keys.ENTER).key_up(Keys.SHIFT)\n",
    "    actions.send_keys(f\"buat sampe hari ini tunggakan soal ada *{tung}* yaa\")\n",
    "    actions.key_down(Keys.SHIFT).send_keys(Keys.ENTER).key_up(Keys.SHIFT)\n",
    "    actions.send_keys(\"Semangaatt '-')9\")\n",
    "    \n",
    "    # actions.send_keys(Keys.RETURN)  # Optionally send the message\n",
    "    \n",
    "    chatbot(kon, actions)"
   ]
  },
  {
   "cell_type": "code",
   "execution_count": null,
   "id": "afb6a73e-0c23-4349-956a-eaac606369ce",
   "metadata": {},
   "outputs": [],
   "source": []
  }
 ],
 "metadata": {
  "kernelspec": {
   "display_name": "Python 3 (ipykernel)",
   "language": "python",
   "name": "python3"
  },
  "language_info": {
   "codemirror_mode": {
    "name": "ipython",
    "version": 3
   },
   "file_extension": ".py",
   "mimetype": "text/x-python",
   "name": "python",
   "nbconvert_exporter": "python",
   "pygments_lexer": "ipython3",
   "version": "3.11.9"
  }
 },
 "nbformat": 4,
 "nbformat_minor": 5
}
