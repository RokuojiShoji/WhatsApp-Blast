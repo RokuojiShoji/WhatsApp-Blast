{
 "cells": [
  {
   "cell_type": "markdown",
   "id": "317b3ca6-93bf-497c-b05c-d4fec747a4b9",
   "metadata": {},
   "source": [
    "SETUP"
   ]
  },
  {
   "cell_type": "code",
   "execution_count": 1,
   "id": "3c91d420-587c-42ce-b4b0-5f896fe0b783",
   "metadata": {},
   "outputs": [],
   "source": [
    "from selenium import webdriver\n",
    "from selenium.webdriver.edge.service import Service\n",
    "from selenium.webdriver.edge.options import Options\n",
    "from selenium.webdriver.common.by import By\n",
    "from selenium.webdriver.common.keys import Keys\n",
    "from selenium.webdriver.common.action_chains import ActionChains\n",
    "from webdriver_manager.microsoft import EdgeChromiumDriverManager\n",
    "from selenium.webdriver.support.ui import WebDriverWait\n",
    "from selenium.webdriver.support import expected_conditions as EC\n",
    "\n",
    "import time\n",
    "import csv"
   ]
  },
  {
   "cell_type": "markdown",
   "id": "9ed2758a-a576-407c-9818-18f4fcafe742",
   "metadata": {},
   "source": [
    "LOGIN"
   ]
  },
  {
   "cell_type": "code",
   "execution_count": 3,
   "id": "6068be8e-43cc-4c8e-aec6-e6963c1902c8",
   "metadata": {},
   "outputs": [],
   "source": [
    "edge_options = Options()\n",
    "service = Service(EdgeChromiumDriverManager().install())\n",
    "\n",
    "driver = webdriver.Edge(service=service, options=edge_options)\n",
    "driver.get(\"https://web.whatsapp.com\")"
   ]
  },
  {
   "cell_type": "markdown",
   "id": "237c48de-cc44-4db0-b299-0b8ed390096b",
   "metadata": {},
   "source": [
    "CHATBOT"
   ]
  },
  {
   "cell_type": "code",
   "execution_count": 43,
   "id": "f160db78-e44e-452d-a608-ff5ce89ec00d",
   "metadata": {},
   "outputs": [],
   "source": [
    "def chatbot(contact, sender):\n",
    "    # Click the search box and enter the contact name\n",
    "    search_box = WebDriverWait(driver, 10).until(\n",
    "        EC.element_to_be_clickable((By.XPATH, '//button[@class=\"_ai0b _ai08\"]'))\n",
    "    )\n",
    "    search_box.click()\n",
    "    \n",
    "    # Enter the contact name into the search input\n",
    "    span_element = WebDriverWait(driver, 10).until(\n",
    "        EC.presence_of_element_located((By.XPATH, '//p[@class=\"selectable-text copyable-text x15bjb6t x1n2onr6\"]'))\n",
    "    )\n",
    "    span_element.send_keys(contact)\n",
    "    \n",
    "    # Wait for the contact to be clickable and click it\n",
    "    locator_contact = f'//span[@title=\"{contact}\"]'\n",
    "    contact_button = WebDriverWait(driver, 10).until(\n",
    "        EC.element_to_be_clickable((By.XPATH, locator_contact))\n",
    "    )\n",
    "    driver.execute_script(\"arguments[0].scrollIntoView(true);\", contact_button)  # Ensure the contact is visible\n",
    "    contact_button.click()\n",
    "    \n",
    "    # Wait for the chat to open by checking the presence of the contact's name in the chat header\n",
    "    WebDriverWait(driver, 10).until(\n",
    "        EC.text_to_be_present_in_element(\n",
    "            (By.XPATH, '//div[@class=\"_amie\"]/div/div/div/span'), contact\n",
    "        )\n",
    "    )\n",
    "    \n",
    "    # Find the message input box and click it\n",
    "    message_box = WebDriverWait(driver, 10).until(\n",
    "        EC.presence_of_element_located((By.XPATH, '//div[@aria-placeholder=\"Type a message\"]/p'))\n",
    "    )\n",
    "    message_box.click()\n",
    "\n",
    "    # Perform the sender action (assuming 'sender' is an ActionChains object)\n",
    "    sender.perform()\n",
    "\n",
    "    # Optionally, send a message directly\n",
    "    # message_box.send_keys(\"Your message here\")\n",
    "    # message_box.send_keys(Keys.ENTER)\n"
   ]
  },
  {
   "cell_type": "markdown",
   "id": "6d675037-231b-452e-a863-8b23c1b46dfe",
   "metadata": {},
   "source": [
    "KONTAK"
   ]
  },
  {
   "cell_type": "code",
   "execution_count": 44,
   "id": "177d0085-8a9d-489f-9f7e-de8d1904c7f9",
   "metadata": {},
   "outputs": [
    {
     "name": "stdout",
     "output_type": "stream",
     "text": [
      "[['GO Iola', 'Iola', '0'], ['GO Raisya', 'Raisya', '0'], ['GO Puan', 'Puan', '0'], ['GO Keynina', 'Keynina', '0'], ['GO Zain', 'Zain', '0'], ['GO Nabila', 'Nabila', '0'], ['GO Kevin', 'Kevin', '0'], ['GO Mouza', 'Mouza', '0'], ['GO Farand', 'Farand', '0'], ['GO Fadia', 'Fadia', '0'], ['GO Gishya', 'Gishya', '0'], ['GO Hanif', 'Hanif', '0'], ['GO Nadiya', 'Nadiya', '0'], ['GO Keira', 'Keira', '0'], ['GO Ganesha', 'Ganesha', '0'], ['GO Adelia', 'Adelia', '0'], ['GO Galih', 'Galih', '0'], ['GO Gani', 'Gani', '0'], ['GO Nayla', 'Nayla', '0']]\n"
     ]
    }
   ],
   "source": [
    "data = []\n",
    "\n",
    "with open('data.csv', mode='r', newline='') as file:\n",
    "    csv_reader = csv.reader(file)\n",
    "    next(csv_reader, None)\n",
    "    for row in csv_reader:\n",
    "        data.append(row)\n",
    "\n",
    "print(data)"
   ]
  },
  {
   "cell_type": "markdown",
   "id": "c2901d87-dcf7-448e-8d20-03a0bfcbe360",
   "metadata": {},
   "source": [
    "KIRIM CHAT"
   ]
  },
  {
   "cell_type": "code",
   "execution_count": 45,
   "id": "d2ea7cc8-d85a-4880-98ce-6af372c36e12",
   "metadata": {},
   "outputs": [],
   "source": [
    "for row in data:\n",
    "    kon, nama, tung = row\n",
    "    actions = ActionChains(driver)\n",
    "\n",
    "    # actions.send_keys(\"Another day, another reminder\")\n",
    "    # actions.key_down(Keys.SHIFT).send_keys(Keys.ENTER).key_up(Keys.SHIFT)\n",
    "    # actions.key_down(Keys.SHIFT).send_keys(Keys.ENTER).key_up(Keys.SHIFT)\n",
    "    # actions.send_keys(f\"\"\"{nama}, Soal *GO Expert* kerjain terus yaa. Beresin targetnya biar ngga dikejar\" terus wkwk\"\"\")\n",
    "    # actions.key_down(Keys.SHIFT).send_keys(Keys.ENTER).key_up(Keys.SHIFT)\n",
    "    # actions.send_keys(f\"Buat sampe hari ini tunggakan soal ada *{tung}* yaa\")\n",
    "    # actions.key_down(Keys.SHIFT).send_keys(Keys.ENTER).key_up(Keys.SHIFT)\n",
    "    # actions.send_keys(\"Semangaatt '-')9\")\n",
    "    \n",
    "    actions.send_keys(Keys.RETURN)  # Optionally send the message\n",
    "    \n",
    "    chatbot(kon, actions)"
   ]
  },
  {
   "cell_type": "code",
   "execution_count": null,
   "id": "afb6a73e-0c23-4349-956a-eaac606369ce",
   "metadata": {},
   "outputs": [],
   "source": []
  }
 ],
 "metadata": {
  "kernelspec": {
   "display_name": "Python 3 (ipykernel)",
   "language": "python",
   "name": "python3"
  },
  "language_info": {
   "codemirror_mode": {
    "name": "ipython",
    "version": 3
   },
   "file_extension": ".py",
   "mimetype": "text/x-python",
   "name": "python",
   "nbconvert_exporter": "python",
   "pygments_lexer": "ipython3",
   "version": "3.11.9"
  }
 },
 "nbformat": 4,
 "nbformat_minor": 5
}
