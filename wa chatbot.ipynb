{
 "cells": [
  {
   "cell_type": "markdown",
   "id": "32f7c1f6",
   "metadata": {},
   "source": [
    "# WHATSAPP BLAST"
   ]
  },
  {
   "cell_type": "markdown",
   "id": "f95b5178",
   "metadata": {},
   "source": [
    "#### CARA PAKAI"
   ]
  },
  {
   "cell_type": "markdown",
   "id": "fceaf9ba",
   "metadata": {},
   "source": [
    "**Jalankan semua blok** di dalam **SETUP** saat pertama kali membuka program dengan cara menekan tombol **Shift + Enter** untuk setiap blok kode.  \n",
    "  \n",
    "Blok SETUP kedua akan membuka window browser baru yang berisi Whatsapp Web.  \n",
    "setelah Whatsapp Web terbuka, lakukan login melalui QR di aplikasi WA Handphone.  \n",
    "  \n",
    "sebelum memulai program sesuaikan dulu isi dari file `data.csv` dengan format:\n",
    "- kontak: nama kontak siswa yang tersimpan. **penulisan harus persis**\n",
    "- nama: nama panggilan yang ingin digunakan.\n",
    "- tunggakan: jumlah tunggakan.  \n",
    "**jangan gunakan spasi antar tipe data, pemisah data hanya tanda koma (,)**  \n",
    "**pisahkan tiap entri dengan menggunakan enter**\n",
    "\n",
    "**contoh format data**  \n",
    "kontak,namaPanggilan,tunggakan  \n",
    "ichsanGO,ichsann,80  \n",
    "nadiaGO,nayyy,120  \n",
    "\n",
    "lakukan test menggunakan `dummy.csv`. isi dengan nomor dan nama sendiri"
   ]
  },
  {
   "cell_type": "markdown",
   "id": "317b3ca6-93bf-497c-b05c-d4fec747a4b9",
   "metadata": {},
   "source": [
    "#### SETUP"
   ]
  },
  {
   "cell_type": "code",
   "execution_count": 1,
   "id": "3c91d420-587c-42ce-b4b0-5f896fe0b783",
   "metadata": {},
   "outputs": [],
   "source": [
    "from selenium import webdriver\n",
    "from selenium.webdriver.edge.service import Service\n",
    "from selenium.webdriver.edge.options import Options\n",
    "from selenium.webdriver.common.by import By\n",
    "from selenium.webdriver.common.keys import Keys\n",
    "from selenium.webdriver.common.action_chains import ActionChains\n",
    "from webdriver_manager.microsoft import EdgeChromiumDriverManager\n",
    "from selenium.webdriver.support.ui import WebDriverWait\n",
    "from selenium.webdriver.support import expected_conditions as EC\n",
    "\n",
    "import csv"
   ]
  },
  {
   "cell_type": "code",
   "execution_count": 2,
   "id": "c8d5f3a8",
   "metadata": {},
   "outputs": [],
   "source": [
    "# Start Web Driver\n",
    "edge_options = Options()\n",
    "service = Service(EdgeChromiumDriverManager().install())\n",
    "driver = webdriver.Edge(service=service, options=edge_options)\n",
    "driver.get(\"https://web.whatsapp.com\")"
   ]
  },
  {
   "cell_type": "code",
   "execution_count": 3,
   "id": "de07ac01",
   "metadata": {},
   "outputs": [],
   "source": [
    "def Template(nama, tunggakan):\n",
    "  pass\n",
    "\n",
    "def Kontak(kontak):\n",
    "  global data\n",
    "  data = []\n",
    "\n",
    "  with open(kontak, mode='r', newline='') as file:\n",
    "    csv_reader = csv.reader(file)\n",
    "    next(csv_reader, None)\n",
    "    for row in csv_reader:\n",
    "      data.append(row)\n",
    "\n",
    "##############################################################\n",
    "\n",
    "def Chatbot(contact, sender):\n",
    "  # Click the search box and enter the contact name\n",
    "  search_box = WebDriverWait(driver, 10).until(\n",
    "    EC.element_to_be_clickable((By.XPATH, '//button[@class=\"_ai0b _ai08\"]'))\n",
    "  )\n",
    "  search_box.click()\n",
    "  \n",
    "  # Enter the contact name into the search input\n",
    "  span_element = WebDriverWait(driver, 10).until(\n",
    "    EC.presence_of_element_located((By.XPATH, '//p[@class=\"selectable-text copyable-text x15bjb6t x1n2onr6\"]'))\n",
    "  )\n",
    "  span_element.send_keys(contact)\n",
    "  \n",
    "  # Wait for the contact to be clickable and click it\n",
    "  locator_contact = f'//span[@title=\"{contact}\"]'\n",
    "  contact_button = WebDriverWait(driver, 10).until(\n",
    "    EC.element_to_be_clickable((By.XPATH, locator_contact))\n",
    "  )\n",
    "  driver.execute_script(\"arguments[0].scrollIntoView(true);\", contact_button)  # Ensure the contact is visible\n",
    "  contact_button.click()\n",
    "  \n",
    "  # Wait for the chat to open by checking the presence of the contact's name in the chat header\n",
    "  WebDriverWait(driver, 10).until(\n",
    "    EC.text_to_be_present_in_element(\n",
    "      (By.XPATH, '//div[@class=\"_amie\"]/div/div/div/span'), contact\n",
    "    )\n",
    "  )\n",
    "  \n",
    "  # Find the message input box and click it\n",
    "  message_box = WebDriverWait(driver, 10).until(\n",
    "    EC.presence_of_element_located((By.XPATH, '//div[@aria-placeholder=\"Type a message\"]/p'))\n",
    "  )\n",
    "  message_box.click()\n",
    "\n",
    "  # Perform the sender action (assuming 'sender' is an ActionChains object)\n",
    "  sender.perform()\n",
    "\n",
    "##############################################################\n",
    "\n",
    "#first time initiate\n",
    "actions = ActionChains(driver)\n",
    "\n",
    "def Teks(text):\n",
    "  actions.send_keys(text)\n",
    "\n",
    "def Enter():\n",
    "  actions.key_down(Keys.SHIFT).send_keys(Keys.ENTER).key_up(Keys.SHIFT)\n",
    "\n",
    "def Mulai():\n",
    "  global actions \n",
    "  actions = ActionChains(driver)\n",
    "\n",
    "#############################################################\n",
    "\n",
    "data = []\n",
    "\n",
    "#############################################################\n",
    "\n",
    "def Kirim():\n",
    "  print('Terkirim:')\n",
    "  for row in data:\n",
    "    kon, nama, tung = row\n",
    "\n",
    "    if (tung == '0'):\n",
    "      continue\n",
    "\n",
    "    actions = ActionChains(driver)\n",
    "    \n",
    "    actions.send_keys(Keys.RETURN)\n",
    "    \n",
    "    Chatbot(kon, actions)\n",
    "    print('  ',nama)\n",
    "\n",
    "#############################################################\n",
    "\n",
    "def PreFire():\n",
    "  print('Draft: ')\n",
    "  for row in data:\n",
    "    kon, nama, tung = row\n",
    "\n",
    "    if(tung == '0'):\n",
    "        continue    \n",
    "\n",
    "    Mulai()\n",
    "    Template(nama, tung)\n",
    "    Chatbot(kon, actions)\n",
    "    print('  ',nama)\n",
    "\n",
    "#############################################################\n",
    "\n"
   ]
  },
  {
   "cell_type": "markdown",
   "id": "afd37c31",
   "metadata": {},
   "source": [
    "#### TEMPLATE"
   ]
  },
  {
   "cell_type": "markdown",
   "id": "eda75e15",
   "metadata": {},
   "source": [
    "##### FUNGSI\n",
    "- `Teks(isi)` - untuk menambahkan teks ke dalam template. isi diganti dengan teks yang akan ditulis. teks diawali dan diakhiri dengan `\"\"\"`  \n",
    "**cont.** `Teks(\"\"\"halo fahmi\"\"\")`\n",
    "\n",
    "- `Enter()` - buat nambah enter ke template\n",
    "\n",
    "##### PENULISAN\n",
    "- indentasi (menjorok ke dalam) harus sejajar semua  \n",
    "**cont.**  \n",
    "<code>def Template(nama, tunggakan):</code>  \n",
    "<code>&nbsp;&nbsp;Teks(\"Reminder~\")</code>  \n",
    "<code>&nbsp;&nbsp;Enter()</code>  \n",
    "<code>&nbsp;&nbsp;Enter()</code>    \n",
    "**`def Template` jangan diubah** yang diganti-ganti hanya baris kedua ke bawah\n",
    "\n",
    "- penulisan nama dan tunggakan menggunakan `{}`  \n",
    "**cont.**  \n",
    "`Teks(\"\"\"Halo, {nama}. hari ini tunggakan kamu {tunggakan} yaa\"\"\")`\n"
   ]
  },
  {
   "cell_type": "code",
   "execution_count": 4,
   "id": "12f17f9b",
   "metadata": {},
   "outputs": [],
   "source": [
    "def Template(nama, tunggakan):\n",
    "\n",
    "  Teks(\"Reminder~\")\n",
    "  Enter()\n",
    "  Enter()\n",
    "  Teks(f\"\"\"{nama}, Soal *GO Expert* kerjain terus yaa. Beresin targetnya biar ngga dikejar\" terus wkwk\"\"\")\n",
    "  Enter()\n",
    "  Teks(f\"Buat sampe hari ini tunggakan soal ada *{tunggakan}* yaa\")\n",
    "  Enter()\n",
    "  Teks(\"Semangaatt '-')9\")\n",
    "  "
   ]
  },
  {
   "cell_type": "markdown",
   "id": "3191b6f7",
   "metadata": {},
   "source": [
    "#### PROGRAM\n"
   ]
  },
  {
   "cell_type": "markdown",
   "id": "9ed2758a-a576-407c-9818-18f4fcafe742",
   "metadata": {},
   "source": [
    "##### FUNGSI\n",
    "- `Kontak(fileKontak)` - untuk mengambil data kontak dari file csv. ganti fileKontak dengan `data.csv` atau `dummy.csv` sesuai dengan kebutuhan  \n",
    "- `PreFire()` - untuk membuat draft pada chatroom\n",
    "- `Kirim()` - untuk mengirim chat  \n",
    "\n",
    "**cont.**  \n",
    "Hanya membuat draft  \n",
    "```\n",
    "Kontak('dummy.csv')\n",
    "PreFire()\n",
    "```\n",
    "\n",
    "Mengirim chat yang sudah menjadi draft\n",
    "```\n",
    "Kontak('dummy.csv')  \n",
    "Kirim()\n",
    "```\n",
    "\n",
    "Langsung mengirimkan tanpa draft  \n",
    "```\n",
    "Kontak('dummy.csv')\n",
    "PreFire()\n",
    "Kirim()\n",
    "```"
   ]
  },
  {
   "cell_type": "code",
   "execution_count": 50,
   "id": "6068be8e-43cc-4c8e-aec6-e6963c1902c8",
   "metadata": {},
   "outputs": [
    {
     "name": "stdout",
     "output_type": "stream",
     "text": [
      "Draft: \n",
      "   ijut\n",
      "   ijut\n",
      "Terkirim:\n",
      "   ijut\n",
      "   ijut\n"
     ]
    }
   ],
   "source": [
    "Kontak('dummy.csv')\n",
    "PreFire()\n"
   ]
  },
  {
   "cell_type": "code",
   "execution_count": null,
   "id": "de7e7ed8",
   "metadata": {},
   "outputs": [],
   "source": []
  }
 ],
 "metadata": {
  "kernelspec": {
   "display_name": "Python 3 (ipykernel)",
   "language": "python",
   "name": "python3"
  },
  "language_info": {
   "codemirror_mode": {
    "name": "ipython",
    "version": 3
   },
   "file_extension": ".py",
   "mimetype": "text/x-python",
   "name": "python",
   "nbconvert_exporter": "python",
   "pygments_lexer": "ipython3",
   "version": "3.12.1"
  }
 },
 "nbformat": 4,
 "nbformat_minor": 5
}
